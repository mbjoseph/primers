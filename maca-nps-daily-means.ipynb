{
 "cells": [
  {
   "cell_type": "code",
   "execution_count": 1,
   "metadata": {
    "collapsed": true
   },
   "outputs": [],
   "source": [
    "import ee\n",
    "from ee import batch\n",
    "ee.Initialize()"
   ]
  },
  {
   "cell_type": "code",
   "execution_count": 2,
   "metadata": {
    "collapsed": false
   },
   "outputs": [],
   "source": [
    "maca = ee.ImageCollection('IDAHO_EPSCOR/MACAv2_METDATA')\n",
    "parks = ee.FeatureCollection('users/majo3748/conus_natl_parks')\n",
    "parks = parks.filterMetadata('UNIT_CO', 'equals', 'WICA')\n",
    "n_park = parks.size().getInfo()\n",
    "park_list = parks.toList(n_park)"
   ]
  },
  {
   "cell_type": "code",
   "execution_count": 3,
   "metadata": {
    "collapsed": false
   },
   "outputs": [
    {
     "data": {
      "text/plain": [
       "1"
      ]
     },
     "execution_count": 3,
     "metadata": {},
     "output_type": "execute_result"
    }
   ],
   "source": [
    "n_park"
   ]
  },
  {
   "cell_type": "code",
   "execution_count": 4,
   "metadata": {
    "collapsed": true
   },
   "outputs": [],
   "source": [
    "processes = list()"
   ]
  },
  {
   "cell_type": "code",
   "execution_count": 5,
   "metadata": {
    "collapsed": true
   },
   "outputs": [],
   "source": [
    "feat = ee.Feature(park_list.get(0))\n",
    "unit_code = feat.get('UNIT_CO').getInfo()"
   ]
  },
  {
   "cell_type": "markdown",
   "metadata": {},
   "source": [
    "## Get historical data"
   ]
  },
  {
   "cell_type": "code",
   "execution_count": 7,
   "metadata": {
    "collapsed": false
   },
   "outputs": [],
   "source": [
    "# get historical data\n",
    "dates = [str(y) + '-01-01' for y in range(1950, 2007)]\n",
    "for i in range(len(dates) - 1):\n",
    "  maca_stack = maca.filterDate(dates[i], dates[i + 1]).toBands()\n",
    "  means = maca_stack.reduceRegion(\n",
    "    reducer = ee.Reducer.mean(), \n",
    "    geometry = feat.geometry(), \n",
    "    scale = 4000, \n",
    "    maxPixels = 1e16\n",
    "  )\n",
    "  out = batch.Export.table.toDrive(\n",
    "    collection = ee.FeatureCollection([ee.Feature(None, means)]), \n",
    "    description = '_'.join([unit_code, dates[i][:4], 'historical']), \n",
    "    folder = 'maca-daily'\n",
    "  )\n",
    "  processes.append(batch.Task.start(out))"
   ]
  },
  {
   "cell_type": "markdown",
   "metadata": {},
   "source": [
    "## Get future data, split by RCP scenario"
   ]
  },
  {
   "cell_type": "code",
   "execution_count": 9,
   "metadata": {
    "collapsed": true
   },
   "outputs": [],
   "source": [
    "# get historical data\n",
    "dates = [str(y) + '-01-01' for y in range(2006, 2101)]\n",
    "rcp = ['rcp85', 'rcp45']\n",
    "for i in range(len(dates) - 1):\n",
    "  for r in rcp:\n",
    "    maca_stack = maca.filterDate(dates[i], dates[i + 1]).filterMetadata('scenario', 'equals', r).toBands()\n",
    "    means = maca_stack.reduceRegion(\n",
    "      reducer = ee.Reducer.mean(), \n",
    "      geometry = feat.geometry(), \n",
    "      scale = 4000, \n",
    "      maxPixels = 1e16\n",
    "    )\n",
    "    out = batch.Export.table.toDrive(\n",
    "      collection = ee.FeatureCollection([ee.Feature(None, means)]), \n",
    "      description = '_'.join([unit_code, dates[i][:4], r]), \n",
    "      folder = 'maca-daily'\n",
    "    )\n",
    "    processes.append(batch.Task.start(out))"
   ]
  },
  {
   "cell_type": "code",
   "execution_count": null,
   "metadata": {
    "collapsed": true
   },
   "outputs": [],
   "source": []
  }
 ],
 "metadata": {
  "kernelspec": {
   "display_name": "Python 2",
   "language": "python",
   "name": "python2"
  },
  "language_info": {
   "codemirror_mode": {
    "name": "ipython",
    "version": 2
   },
   "file_extension": ".py",
   "mimetype": "text/x-python",
   "name": "python",
   "nbconvert_exporter": "python",
   "pygments_lexer": "ipython2",
   "version": "2.7.12"
  }
 },
 "nbformat": 4,
 "nbformat_minor": 2
}
