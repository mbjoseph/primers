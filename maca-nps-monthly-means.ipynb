{
 "cells": [
  {
   "cell_type": "code",
   "execution_count": 1,
   "metadata": {
    "collapsed": false
   },
   "outputs": [],
   "source": [
    "import ee\n",
    "from ee import batch"
   ]
  },
  {
   "cell_type": "code",
   "execution_count": 2,
   "metadata": {
    "collapsed": true
   },
   "outputs": [],
   "source": [
    "ee.Initialize()"
   ]
  },
  {
   "cell_type": "markdown",
   "metadata": {},
   "source": [
    "## Monthly means for MACA data for national parks"
   ]
  },
  {
   "cell_type": "code",
   "execution_count": 3,
   "metadata": {
    "collapsed": true
   },
   "outputs": [],
   "source": [
    "maca = ee.ImageCollection('IDAHO_EPSCOR/MACAv2_METDATA_MONTHLY')"
   ]
  },
  {
   "cell_type": "code",
   "execution_count": 4,
   "metadata": {
    "collapsed": false
   },
   "outputs": [],
   "source": [
    "parks = ee.FeatureCollection('users/majo3748/conus_natl_parks')"
   ]
  },
  {
   "cell_type": "code",
   "execution_count": 5,
   "metadata": {
    "collapsed": false
   },
   "outputs": [],
   "source": [
    "n_park = parks.size().getInfo()"
   ]
  },
  {
   "cell_type": "code",
   "execution_count": 6,
   "metadata": {
    "collapsed": true
   },
   "outputs": [],
   "source": [
    "park_list = parks.toList(n_park)"
   ]
  },
  {
   "cell_type": "code",
   "execution_count": 7,
   "metadata": {
    "collapsed": true
   },
   "outputs": [],
   "source": [
    "scenarios = ['historical', 'rcp85', 'rcp45']\n",
    "variables = ['pr', 'tasmax', 'tasmin', 'huss', 'rsds', 'was']"
   ]
  },
  {
   "cell_type": "markdown",
   "metadata": {},
   "source": [
    "Iterate over parks and scenarios, exporting park-wide means for each"
   ]
  },
  {
   "cell_type": "code",
   "execution_count": 8,
   "metadata": {
    "collapsed": true
   },
   "outputs": [],
   "source": [
    "processes = list()"
   ]
  },
  {
   "cell_type": "code",
   "execution_count": 9,
   "metadata": {
    "collapsed": false
   },
   "outputs": [],
   "source": [
    "for scenario in scenarios:\n",
    "  scenario_data = maca.filterMetadata('scenario', 'equals', scenario)\n",
    "  \n",
    "  for var in variables:\n",
    "    climate_var = scenario_data.select(var).toBands()\n",
    "    \n",
    "    for p in range(n_park):\n",
    "      feat = ee.Feature(park_list.get(p))\n",
    "      \n",
    "      mean_dict = climate_var.reduceRegion(\n",
    "        reducer = ee.Reducer.mean(), \n",
    "        geometry = feat.geometry(),\n",
    "        scale = 4000, \n",
    "        maxPixels = 1e9\n",
    "      )\n",
    "\n",
    "      out = batch.Export.table.toDrive(\n",
    "        collection = ee.FeatureCollection([ee.Feature(None, mean_dict)]),\n",
    "        description = '_'.join([feat.get('UNIT_CO').getInfo(), var, scenario]), \n",
    "        folder = 'maca-monthly'\n",
    "      )\n",
    "      processes.append(batch.Task.start(out))"
   ]
  },
  {
   "cell_type": "code",
   "execution_count": 10,
   "metadata": {
    "collapsed": false
   },
   "outputs": [
    {
     "data": {
      "text/plain": [
       "864"
      ]
     },
     "execution_count": 10,
     "metadata": {},
     "output_type": "execute_result"
    }
   ],
   "source": [
    "# how many jobs did we submit?\n",
    "len(processes)"
   ]
  },
  {
   "cell_type": "code",
   "execution_count": null,
   "metadata": {
    "collapsed": true
   },
   "outputs": [],
   "source": []
  }
 ],
 "metadata": {
  "kernelspec": {
   "display_name": "Python 2",
   "language": "python",
   "name": "python2"
  },
  "language_info": {
   "codemirror_mode": {
    "name": "ipython",
    "version": 2
   },
   "file_extension": ".py",
   "mimetype": "text/x-python",
   "name": "python",
   "nbconvert_exporter": "python",
   "pygments_lexer": "ipython2",
   "version": "2.7.12"
  }
 },
 "nbformat": 4,
 "nbformat_minor": 2
}
